{
 "cells": [
  {
   "cell_type": "code",
   "execution_count": 30,
   "metadata": {},
   "outputs": [],
   "source": [
    "from AutoDiff import *\n",
    "from numpy.testing import assert_array_equal, assert_array_almost_equal"
   ]
  },
  {
   "cell_type": "code",
   "execution_count": 7,
   "metadata": {},
   "outputs": [],
   "source": [
    "def tan(x):\n",
    "    try: #rAD\n",
    "        ad = rAD(np.tan(x.val))\n",
    "        x.children.append((1/(np.cos(x.val)**2),ad))\n",
    "        return ad\n",
    "    except AttributeError:\n",
    "        try: #fAD\n",
    "            return fAD(np.tan(x.val), x.der/(np.cos(x.val)**2))\n",
    "        except AttributeError:\n",
    "            return np.tan(x) #numeric"
   ]
  },
  {
   "cell_type": "code",
   "execution_count": 35,
   "metadata": {},
   "outputs": [],
   "source": [
    "def test_combined_tan():\n",
    "    x = fAD(5)\n",
    "    y = tan(x**2)    \n",
    "    a = rAD(5)\n",
    "    b = tan(a**2)\n",
    "    b.outer()\n",
    "    a.grad()\n",
    "    assert(y.val[0] == np.tan(25))\n",
    "    assert(y.der[0][0] == 10/np.cos(25)**2)\n",
    "    assert(b.val == np.tan(25))\n",
    "    assert_array_almost_equal(a.der,10/np.cos(25)**2)    \n",
    "test_combined_tan()"
   ]
  },
  {
   "cell_type": "code",
   "execution_count": 36,
   "metadata": {},
   "outputs": [],
   "source": [
    "def cosh(x):\n",
    "    try:\n",
    "        #if x is an rAD object\n",
    "        new = rAD(np.cosh(x.val)) #\n",
    "        x.children.append((np.sinh(x.val), new))\n",
    "        return new\n",
    "    except AttributeError:\n",
    "        try:\n",
    "            #if x is an fAD object\n",
    "            return fAD(np.cosh(x.val), np.sinh(x.val)*x.der)\n",
    "        except AttributeError:\n",
    "            #if x is a number\n",
    "            return np.cosh(x)       "
   ]
  },
  {
   "cell_type": "code",
   "execution_count": 53,
   "metadata": {},
   "outputs": [],
   "source": [
    "def test_combined_cosh():\n",
    "    x = fAD(8)\n",
    "    y = cosh(x) + x\n",
    "    a = rAD(8)\n",
    "    b = cosh(a) - a\n",
    "    b.outer()\n",
    "    a.grad()\n",
    "    assert y.val == np.cosh(8)+8\n",
    "    assert y.der == np.sinh(8)+1\n",
    "    assert b.val == np.cosh(8)-8\n",
    "    assert a.der == np.sinh(8)-1\n",
    "test_combined_cosh()"
   ]
  },
  {
   "cell_type": "code",
   "execution_count": 65,
   "metadata": {},
   "outputs": [],
   "source": [
    "def tanh(x):\n",
    "    try:\n",
    "        #if x is an rAD object\n",
    "        new = rAD(np.tanh(x.val))\n",
    "        x.children.append((1/(np.cosh(x.val)**2),new))\n",
    "        return new\n",
    "    except AttributeError:\n",
    "        try:\n",
    "            #if x is an fAD object\n",
    "            return fAD(np.tanh(x.val), (x.der/(np.cosh(x.val)**2)))\n",
    "        except AttributeError:\n",
    "            return np.tanh(x)"
   ]
  },
  {
   "cell_type": "code",
   "execution_count": 70,
   "metadata": {},
   "outputs": [],
   "source": [
    "def test_combined_tanh():\n",
    "    x = fAD(3)\n",
    "    y = tanh(x**2)+x**2\n",
    "    a = rAD(3)\n",
    "    b = tanh(a**2)+a**2\n",
    "    b.outer()\n",
    "    a.grad()\n",
    "    assert y.val == np.tanh(9)+9\n",
    "    assert y.der == 6/(np.cosh(9)**2)+6\n",
    "    assert b.val == np.tanh(9)+9\n",
    "    assert a.der == 6/(np.cosh(9)**2)+6\n",
    "test_combined_tanh()"
   ]
  },
  {
   "cell_type": "code",
   "execution_count": 71,
   "metadata": {},
   "outputs": [],
   "source": [
    "def sqrt(self):\n",
    "    try: # reverse\n",
    "        ad = rAD(self.val**0.5)\n",
    "        self.children.append(((self.val**(-0.5))*0.5,ad))\n",
    "        return ad\n",
    "    except AttributeError:\n",
    "        try: # forward\n",
    "            return fAD(self.val**0.5, 0.5*self.der*(self.val**(-0.5)))\n",
    "        except AttributeError:\n",
    "            return self**0.5 #just a value            "
   ]
  },
  {
   "cell_type": "code",
   "execution_count": 90,
   "metadata": {},
   "outputs": [],
   "source": [
    "def test_combined_sqrt():    \n",
    "    x = fAD(6)\n",
    "    y = 4*sqrt(x)\n",
    "    a = rAD(6)\n",
    "    b = 4*sqrt(a)\n",
    "    b.outer()\n",
    "    a.grad()\n",
    "    assert y.val == 4*6**0.5\n",
    "    assert_array_almost_equal(y.der,2*6**-0.5)\n",
    "    assert b.val == 4*6**0.5\n",
    "    assert_array_almost_equal(a.der,2*6**-0.5)\n",
    "    \n",
    "test_combined_sqrt()"
   ]
  }
 ],
 "metadata": {
  "kernelspec": {
   "display_name": "Python 3",
   "language": "python",
   "name": "python3"
  },
  "language_info": {
   "codemirror_mode": {
    "name": "ipython",
    "version": 3
   },
   "file_extension": ".py",
   "mimetype": "text/x-python",
   "name": "python",
   "nbconvert_exporter": "python",
   "pygments_lexer": "ipython3",
   "version": "3.6.2"
  }
 },
 "nbformat": 4,
 "nbformat_minor": 2
}
