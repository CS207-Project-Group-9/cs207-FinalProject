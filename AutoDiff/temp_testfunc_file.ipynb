{
 "cells": [
  {
   "cell_type": "code",
   "execution_count": 35,
   "metadata": {},
   "outputs": [],
   "source": [
    "import AD_r\n",
    "import numpy as np"
   ]
  },
  {
   "cell_type": "code",
   "execution_count": null,
   "metadata": {},
   "outputs": [],
   "source": [
    "##    x = rAD(0.5)\n",
    "##    y = rAD(4.2)\n",
    "##    z = x * y + sin(x)\n",
    "##    z.outer()\n",
    "##    # z.der = 1.0 #the last (outermost) var\n",
    "##\n",
    "##\n",
    "##\n",
    "##    print('x: {}, {}, {}'.format(x.val, x.der, x.grad()))\n",
    "##    print('y: {}, {}, {}'.format(y.val, y.der, y.grad()))\n",
    "##    print('z: {}, {}, {}'.format(z.val, z.der, z.grad()))\n",
    "##    print('x: ', str(x))\n",
    "##    print('y: ', str(y))\n",
    "##    print('z: ', str(z))\n",
    "##\n",
    "##\n",
    "##\n",
    "##    assert abs(z.val - 2.579425538604203) <= 1e-15\n",
    "##    assert abs(x.grad() - (y.val + math.cos(x.val))) <= 1e-15\n",
    "##    assert abs(y.grad() - x.val) <= 1e-15"
   ]
  },
  {
   "cell_type": "code",
   "execution_count": 24,
   "metadata": {},
   "outputs": [],
   "source": []
  },
  {
   "cell_type": "code",
   "execution_count": null,
   "metadata": {},
   "outputs": [],
   "source": [
    "\n"
   ]
  },
  {
   "cell_type": "code",
   "execution_count": null,
   "metadata": {},
   "outputs": [],
   "source": []
  },
  {
   "cell_type": "code",
   "execution_count": 57,
   "metadata": {},
   "outputs": [],
   "source": [
    "def test_rAD_eq():\n",
    "    x1 = rAD(5)\n",
    "    y1 = rAD(3)\n",
    "    z1 = (x1 + y1).outer()\n",
    "    x2 = rAD(5)\n",
    "    y2 = rAD(3)\n",
    "    z2 = (x2 + y2).outer()\n",
    "    x1.grad()\n",
    "    x2.grad()\n",
    "    y1.grad()\n",
    "    assert(x1==x2 and z1==z2)"
   ]
  },
  {
   "cell_type": "code",
   "execution_count": 58,
   "metadata": {},
   "outputs": [],
   "source": [
    "def test_rAD_ne():\n",
    "    x1 = AD_r.rAD(5)\n",
    "    y1 = AD_r.rAD(3)\n",
    "    z1 = (x1 + y1)\n",
    "    z1.outer()\n",
    "    x2 = AD_r.rAD(5)\n",
    "    y2 = AD_r.rAD(3)\n",
    "    z2 = (x2 + y2)\n",
    "    z2.outer()\n",
    "    x1.grad()\n",
    "    x2.grad()\n",
    "    y1.grad()\n",
    "    assert(y1!=y2)\n",
    "\n"
   ]
  },
  {
   "cell_type": "code",
   "execution_count": 39,
   "metadata": {},
   "outputs": [],
   "source": [
    "def test_rAD_sin():\n",
    "    x = AD_r.rAD(5)\n",
    "    y = x*AD_r.sin(x)\n",
    "    y.outer()\n",
    "    y.val == 5*np.sin(5)\n",
    "    x.grad()\n",
    "    assert y.val == 5*np.sin(5)\n",
    "    assert x.der == np.sin(5) + 5*np.cos(5)"
   ]
  },
  {
   "cell_type": "code",
   "execution_count": 74,
   "metadata": {},
   "outputs": [],
   "source": [
    "def test_rAD_cos():\n",
    "    x = AD_r.rAD(5)\n",
    "    y = x*AD_r.cos(x)\n",
    "    y.outer()\n",
    "    y.val == 5*np.cos(5)\n",
    "    x.grad()\n",
    "    assert y.val == 5*np.cos(5)\n",
    "    assert x.der == np.cos(5) - 5*np.sin(5)\n",
    "    assert AD_r.cos(5) == np.cos(5)\n",
    "test_rAD_cos()"
   ]
  },
  {
   "cell_type": "code",
   "execution_count": 76,
   "metadata": {},
   "outputs": [
    {
     "data": {
      "text/plain": [
       "0"
      ]
     },
     "execution_count": 76,
     "metadata": {},
     "output_type": "execute_result"
    }
   ],
   "source": [
    "x = AD_r.rAD(1)\n",
    "y = x*AD_r.exp(x)\n",
    "y.outer()\n",
    "x.grad()\n",
    "x.der"
   ]
  },
  {
   "cell_type": "code",
   "execution_count": null,
   "metadata": {},
   "outputs": [],
   "source": []
  },
  {
   "cell_type": "code",
   "execution_count": null,
   "metadata": {},
   "outputs": [],
   "source": []
  }
 ],
 "metadata": {
  "kernelspec": {
   "display_name": "Python 3",
   "language": "python",
   "name": "python3"
  },
  "language_info": {
   "codemirror_mode": {
    "name": "ipython",
    "version": 3
   },
   "file_extension": ".py",
   "mimetype": "text/x-python",
   "name": "python",
   "nbconvert_exporter": "python",
   "pygments_lexer": "ipython3",
   "version": "3.6.2"
  }
 },
 "nbformat": 4,
 "nbformat_minor": 2
}
