{
 "cells": [
  {
   "cell_type": "markdown",
   "metadata": {},
   "source": [
    "# I. Introduction"
   ]
  },
  {
   "cell_type": "markdown",
   "metadata": {},
   "source": []
  },
  {
   "cell_type": "markdown",
   "metadata": {},
   "source": [
    "# II. Background"
   ]
  },
  {
   "cell_type": "markdown",
   "metadata": {},
   "source": []
  },
  {
   "cell_type": "markdown",
   "metadata": {},
   "source": [
    "# III. How to Use"
   ]
  },
  {
   "cell_type": "markdown",
   "metadata": {},
   "source": []
  },
  {
   "cell_type": "markdown",
   "metadata": {},
   "source": [
    "# IV. Software Organization"
   ]
  },
  {
   "cell_type": "markdown",
   "metadata": {},
   "source": []
  },
  {
   "cell_type": "markdown",
   "metadata": {},
   "source": [
    "# V. Implementation"
   ]
  },
  {
   "cell_type": "markdown",
   "metadata": {},
   "source": [
    "## Class 1: AD"
   ]
  },
  {
   "cell_type": "markdown",
   "metadata": {},
   "source": [
    "Describes variables in 1-Dimension\n",
    "\n",
    "#### Attributes\n",
    "- val: float\n",
    "    - A numeric value, indicating the value of the current AD instance.\n",
    "    \n",
    "- der: array of float\n",
    "    - Suppose there are m elementary variables, 'der' would be an array of m elements, each representing the derivative value with respect to a certain elementary variable.\n",
    "    - We store these values in an array so that when our later computation is easier.\n",
    "\n",
    "#### Methods\n",
    "0. \\__init__:\n",
    "    - arguments: \n",
    "        - val: float, representing the value\n",
    "        - der: a list of floats, representing the derivatives with respect to elementary variables; optional, default=1\n",
    "    - sets self.val=val, self.der=der\n",
    "\n",
    "\n",
    "1. \\__add__ & \\__radd__: \n",
    "    - arguments:\n",
    "        - self\n",
    "        - other: a float, int, or AD\n",
    "    - returns: \n",
    "        - if other is an AD -> a new AD instance with new.val = self.val + other.val, new.der = self.der + other.der\n",
    "        - if other is a numeric value -> a new AD instance with new.val = self.val + other, new.der = self.der\n",
    "\n",
    "\n",
    "2. \\__sub__ & \\__rsub__\n",
    "    - arguments:\n",
    "\t\t- self\n",
    "\t\t- other: a float, int, or AD\n",
    "\t- returns: \n",
    "\t\t- if other is an AD -> a new AD instance with new.val = self.val - other.val, new.der = self.der - other.der\n",
    "\t\t- if other is a numeric value -> a new AD instance with new.val = self.val - other, new.der = self.der\n",
    "\n",
    "\n",
    "3. \\__mul__ & \\__rmul__\n",
    "\t- arguments:\n",
    "\t\t- self\n",
    "\t\t- other: a float, int, or AD\n",
    "\t- returns: \n",
    "\t\t- if other is an AD -> a new AD instance with new.val = self.val \\* other.val, new.der = self.val \\* other.der + self.der \\* other.val\n",
    "\t\t- if other is a numeric value -> a new AD instance with new.val = self.val \\* other, new.der = self.der \\* other\n",
    "\n",
    "\n",
    "4. \\__div__ & \\__rdiv__\n",
    "\t- arguments:\n",
    "\t\t- self\n",
    "\t\t- other: a float, int, or AD\n",
    "\t- returns: \n",
    "\t\t- if other is an AD -> a new AD instance with new.val = self.val / other.val, new.der = (self.der \\* other.val + self.val \\* other.der)/(other.val\\*\\*2)\n",
    "\t\t- if other is a numeric value -> a new AD instance with new.val = self.val / other, new.der = self.der / other\n",
    "\t- raises:\n",
    "\t\t- ZeroDivisionError when other.val = 0\n",
    "\n",
    "\n",
    "5. \\__pow__\n",
    "\t- arguments:\n",
    "\t\t- self\n",
    "\t\t- k: a float, int, or AD\n",
    "\t- returns:\n",
    "\t\t- if other is an AD -> a new AD instance with new.val = self.val \\*\\* other.val, new.der = other.val \\* self.val \\*\\* (other.val - 1) \\* self.der + log(self.val) \\* self.val \\*\\* other.val \\* other.der\n",
    "\t\t- if other is a numeric value -> a new AD instance with new.val = self.val \\*\\* k, new.der = k \\* (self.val\\*\\*(k-1)) \\* self.der\n",
    "\n",
    "\n",
    "6. \\__abs__\n",
    "\t- arguments:\n",
    "\t\t- self\n",
    "\t- returns:\n",
    "\t\t- a new AD instance with new.val = abs(self.val), new.der = sign(self.val) \\* self.der\n",
    "\n",
    "\n",
    "7. sin\n",
    "\t- arguments:\n",
    "\t\t- self\n",
    "\t- returns:\n",
    "\t\t- a new AD instance with new.val = sin(self.val), new.der = cos(self.val) \\* self.der\n",
    "\n",
    "\n",
    "8. cos\n",
    "\t- arguments:\n",
    "\t\t- self\n",
    "\t- returns:\n",
    "\t\t- a new AD instance with new.val = cos(self.val), new.der = -sin(self.val) \\* self.der\n",
    "\n",
    "\n",
    "9. tan\n",
    "\t- arguments:\n",
    "\t\t- self\n",
    "\t- returns:\n",
    "\t\t- a new AD instance with new.val = cos(self.val), new.der = 1/(cos(self.val) \\*\\* 2) \\* self.der\n",
    "\n",
    "\n",
    "10. exp\n",
    "\t- arguments:\n",
    "\t\t- self\n",
    "\t- returns:\n",
    "\t\t- a new AD instance with new.val = exp(self.val), new.der = exp(self.val) \\* self.der\n",
    "\n",
    "\n",
    "11. log\n",
    "\t- arguments:\n",
    "\t\t- self\n",
    "\t- returns:\n",
    "\t\t- a new AD instance with new.val = log(self.val), new.der = self.der/self.val\n",
    "\t- raises: (????)\n",
    "\t\texception when self.val <= 0 \n",
    "\n",
    "12. get_val()\n",
    "    - arguments:\n",
    "        - self\n",
    "    - returns:\n",
    "        - self.val\n",
    "\n",
    "13. get_der(i=1)\n",
    "    - arguments:\n",
    "        - self\n",
    "    - returns:\n",
    "        - self.der\n",
    "\n",
    "14. \\__eq__\n",
    "    - arguments:\n",
    "        - self\n",
    "        - other: an AD instance\n",
    "    - returns:\n",
    "        - 'True' if self.val==other.val and self.der==other.der, 'False' otherwise\n",
    "        \n",
    "15. \\__str__\n",
    "    - arguments:\n",
    "        - self\n",
    "    - returns:\n",
    "        - a string describing the value and derivatives of the current instance"
   ]
  },
  {
   "cell_type": "markdown",
   "metadata": {},
   "source": [
    "## Class 2: AD_System"
   ]
  },
  {
   "cell_type": "markdown",
   "metadata": {},
   "source": [
    "Describes variables in n-Dimension\n",
    "\n",
    "#### Attributes\n",
    "- val: array of float\n",
    "    - Numeric values, indicating the value of each entry in the current AD_System instance.\n",
    "    \n",
    "- der: 2D array of float\n",
    "    - Suppose there are m elementary variables and n variables in the AD_System, 'der' would be a n\\*m array of elements, with the (i,j) entry representing the derivative value of the i-th AD with respect to the j-th elementary variable.\n",
    "\n",
    "#### Methods\n",
    "0. \\__init__:\n",
    "    - arguments: \n",
    "        - a list/array of AD instances\n",
    "    - sets self.val as a list of 'val' attributes of the input AD instances\n",
    "    - combines the 'der' attributes of the input AD instances as a 2D array and save as self.der\n",
    "\n",
    "Class AD_System will also implement the following functions, very similar to the simple AD class:\n",
    "1. \\__add__ & \\__radd__\n",
    "2. \\__sub__ & \\__rsub__\n",
    "3. \\__mul__ & \\__rmul__\n",
    "4. \\__div__ & \\__rdiv__\n",
    "5. \\__pow__\n",
    "6. \\__abs__\n",
    "7. sin\n",
    "8. cos\n",
    "9. tan\n",
    "10. exp\n",
    "11. log\n",
    "12. get_val()\n",
    "13. get_der(i=1)\n",
    "14. \\__eq__\n",
    "15. \\__str__"
   ]
  },
  {
   "cell_type": "markdown",
   "metadata": {},
   "source": [
    "## External Dependencies"
   ]
  },
  {
   "cell_type": "markdown",
   "metadata": {},
   "source": [
    "We will need **numpy** for impletation and **pytest** and **doctest** for testing."
   ]
  }
 ],
 "metadata": {
  "kernelspec": {
   "display_name": "Python 3",
   "language": "python",
   "name": "python3"
  },
  "language_info": {
   "codemirror_mode": {
    "name": "ipython",
    "version": 3
   },
   "file_extension": ".py",
   "mimetype": "text/x-python",
   "name": "python",
   "nbconvert_exporter": "python",
   "pygments_lexer": "ipython3",
   "version": "3.6.5"
  }
 },
 "nbformat": 4,
 "nbformat_minor": 2
}
